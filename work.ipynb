{
 "cells": [
  {
   "cell_type": "code",
   "execution_count": 2,
   "metadata": {},
   "outputs": [
    {
     "name": "stdout",
     "output_type": "stream",
     "text": [
      "['./data/juqp1907.xlsx', './data/juqp2002.xlsx', './data/juqp1911.xlsx', './data/juqp1910.xlsx', './data/juqp2003.xlsx', './data/juqp1906.xlsx', './data/juqp2004.xlsx', './data/juqp2005.xlsx', './data/juqp1909.xlsx', './data/juqp2001.xlsx', './data/juqp1912.xlsx', './data/juqp1908.xlsx']\n"
     ]
    }
   ],
   "source": [
    "import glob\n",
    "print(glob.glob(\"./data/juqp*.xlsx\"))"
   ]
  },
  {
   "cell_type": "code",
   "execution_count": 4,
   "metadata": {},
   "outputs": [],
   "source": [
    "import pandas as pd"
   ]
  },
  {
   "cell_type": "code",
   "execution_count": 9,
   "metadata": {},
   "outputs": [],
   "source": [
    "frame = pd.read_excel(glob.glob(\"./data/juqp*.xlsx\")[1])"
   ]
  },
  {
   "cell_type": "code",
   "execution_count": 10,
   "metadata": {},
   "outputs": [
    {
     "data": {
      "text/plain": [
       "[0     Financial Markets Department\n",
       " 1                    Bank of Japan\n",
       " 2                              NaN\n",
       " 3                              NaN\n",
       " 4                              NaN\n",
       "                   ...             \n",
       " 64                             NaN\n",
       " 65                             NaN\n",
       " 66                             NaN\n",
       " 67                             NaN\n",
       " 68                             NaN\n",
       " Name: February 5, 2020, Length: 69, dtype: object,\n",
       " 0                                                   NaN\n",
       " 1                                                   NaN\n",
       " 2                                                   NaN\n",
       " 3                                日銀当座預金増減要因（2020年2月見込み）\n",
       " 4     Sources of Changes in Current Account Balances...\n",
       "                             ...                        \n",
       " 64                                                  NaN\n",
       " 65                                                  NaN\n",
       " 66                                                  NaN\n",
       " 67                                                  NaN\n",
       " 68                                                  NaN\n",
       " Name: Unnamed: 1, Length: 69, dtype: object,\n",
       " 0     NaN\n",
       " 1     NaN\n",
       " 2     NaN\n",
       " 3     NaN\n",
       " 4     NaN\n",
       "      ... \n",
       " 64    NaN\n",
       " 65    NaN\n",
       " 66    NaN\n",
       " 67    NaN\n",
       " 68    NaN\n",
       " Name: Unnamed: 2, Length: 69, dtype: object,\n",
       " 0                                                   NaN\n",
       " 1                                                   NaN\n",
       " 2                                                   NaN\n",
       " 3                                                   NaN\n",
       " 4                                                   NaN\n",
       "                             ...                        \n",
       " 64                                      直通 03-3277-1362\n",
       " 65                             代表 03-3279-1111<内線 2830>\n",
       " 66                                            Inquiries\n",
       " 67    Market Operations Division, Financial Markets ...\n",
       " 68                         E-mail: post.cmmd3@boj.or.jp\n",
       " Name: Unnamed: 3, Length: 69, dtype: object,\n",
       " 0     NaN\n",
       " 1     NaN\n",
       " 2     NaN\n",
       " 3     NaN\n",
       " 4     NaN\n",
       "      ... \n",
       " 64    NaN\n",
       " 65    NaN\n",
       " 66    NaN\n",
       " 67    NaN\n",
       " 68    NaN\n",
       " Name: Unnamed: 4, Length: 69, dtype: object,\n",
       " 0     NaN\n",
       " 1     NaN\n",
       " 2     NaN\n",
       " 3     NaN\n",
       " 4     NaN\n",
       "      ... \n",
       " 64    NaN\n",
       " 65    NaN\n",
       " 66    NaN\n",
       " 67    NaN\n",
       " 68    NaN\n",
       " Name: Unnamed: 5, Length: 69, dtype: object,\n",
       " 0     NaN\n",
       " 1     NaN\n",
       " 2     NaN\n",
       " 3     NaN\n",
       " 4     NaN\n",
       "      ... \n",
       " 64    NaN\n",
       " 65    NaN\n",
       " 66    NaN\n",
       " 67    NaN\n",
       " 68    NaN\n",
       " Name: Unnamed: 6, Length: 69, dtype: object,\n",
       " 0    NaN\n",
       " 1    NaN\n",
       " 2    NaN\n",
       " 3    NaN\n",
       " 4    NaN\n",
       "       ..\n",
       " 64   NaN\n",
       " 65   NaN\n",
       " 66   NaN\n",
       " 67   NaN\n",
       " 68   NaN\n",
       " Name: 43866, Length: 69, dtype: float64,\n",
       " 0     日本銀行金融市場局\n",
       " 1           NaN\n",
       " 2           NaN\n",
       " 3           NaN\n",
       " 4           NaN\n",
       "         ...    \n",
       " 64          NaN\n",
       " 65          NaN\n",
       " 66          NaN\n",
       " 67          NaN\n",
       " 68          NaN\n",
       " Name: Unnamed: 8, Length: 69, dtype: object,\n",
       " 0     NaN\n",
       " 1     NaN\n",
       " 2     NaN\n",
       " 3     NaN\n",
       " 4     NaN\n",
       "      ... \n",
       " 64    NaN\n",
       " 65    NaN\n",
       " 66    NaN\n",
       " 67    NaN\n",
       " 68    NaN\n",
       " Name: Unnamed: 9, Length: 69, dtype: object,\n",
       " 0     NaN\n",
       " 1     NaN\n",
       " 2     NaN\n",
       " 3     NaN\n",
       " 4     NaN\n",
       "      ... \n",
       " 64    NaN\n",
       " 65    NaN\n",
       " 66    NaN\n",
       " 67    NaN\n",
       " 68    NaN\n",
       " Name: Unnamed: 10, Length: 69, dtype: object]"
      ]
     },
     "execution_count": 10,
     "metadata": {},
     "output_type": "execute_result"
    }
   ],
   "source": [
    "[frame[col] for col in frame]"
   ]
  },
  {
   "cell_type": "code",
   "execution_count": null,
   "metadata": {},
   "outputs": [],
   "source": []
  }
 ],
 "metadata": {
  "kernelspec": {
   "display_name": "Python 3",
   "language": "python",
   "name": "python3"
  },
  "language_info": {
   "codemirror_mode": {
    "name": "ipython",
    "version": 3
   },
   "file_extension": ".py",
   "mimetype": "text/x-python",
   "name": "python",
   "nbconvert_exporter": "python",
   "pygments_lexer": "ipython3",
   "version": "3.7.6"
  }
 },
 "nbformat": 4,
 "nbformat_minor": 4
}
